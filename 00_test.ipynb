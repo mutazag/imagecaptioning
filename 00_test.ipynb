{
 "cells": [
  {
   "cell_type": "markdown",
   "metadata": {},
   "source": [
    "# method 1"
   ]
  },
  {
   "cell_type": "code",
   "execution_count": 2,
   "metadata": {},
   "outputs": [],
   "source": [
    "from utils.helpers import Config \n",
    "c = Config()"
   ]
  },
  {
   "cell_type": "code",
   "execution_count": 11,
   "metadata": {},
   "outputs": [],
   "source": [
    "dense_1 = c.LoadFeatures(\"densenet_features.pkl\")\n"
   ]
  },
  {
   "cell_type": "code",
   "execution_count": 38,
   "metadata": {},
   "outputs": [
    {
     "name": "stdout",
     "output_type": "stream",
     "text": [
      "<class 'dict'>\n",
      "8091\n",
      "['2293424366_7b5fcd2398', '3193335577_9bdbaf9f70', '524360969_472a7152f0']\n",
      "[[9.5300304e-05 1.6891826e-03 5.1485118e-03 ... 2.3916087e+00\n",
      "  7.8316832e-01 1.2584977e+00]]\n"
     ]
    }
   ],
   "source": [
    "print(type(dense_1))\n",
    "print(len(dense_1.keys()))\n",
    "print(list(dense_1.keys())[:3])\n",
    "\n",
    "feature_1 = dense_1['2293424366_7b5fcd2398']\n",
    "print(feature_1)"
   ]
  },
  {
   "cell_type": "code",
   "execution_count": null,
   "metadata": {},
   "outputs": [],
   "source": []
  },
  {
   "cell_type": "markdown",
   "metadata": {},
   "source": [
    "# method 2"
   ]
  },
  {
   "cell_type": "code",
   "execution_count": 20,
   "metadata": {},
   "outputs": [],
   "source": [
    "import pickle \n",
    "filename = \"data/Extracted_Features/densenet_features.pkl\"\n",
    "dense_2 =  pickle.load(open(filename, \"rb\"))"
   ]
  },
  {
   "cell_type": "code",
   "execution_count": 27,
   "metadata": {},
   "outputs": [
    {
     "name": "stdout",
     "output_type": "stream",
     "text": [
      "<class 'dict'>\n",
      "8091\n",
      "['2293424366_7b5fcd2398', '3193335577_9bdbaf9f70', '524360969_472a7152f0']\n",
      "(1, 1024)\n",
      "<class 'numpy.ndarray'>\n"
     ]
    }
   ],
   "source": [
    "print(type(dense_2))\n",
    "print(len(dense_2.keys()))\n",
    "print(list(dense_2.keys())[:3])\n",
    "\n",
    "feature_2 = dense_2['2293424366_7b5fcd2398']\n",
    "\n",
    "print(feature_2.shape)\n",
    "print(type(feature_2))"
   ]
  },
  {
   "cell_type": "markdown",
   "metadata": {},
   "source": [
    "# compare 2 np arrays "
   ]
  },
  {
   "cell_type": "code",
   "execution_count": 36,
   "metadata": {},
   "outputs": [
    {
     "data": {
      "text/plain": [
       "True"
      ]
     },
     "execution_count": 36,
     "metadata": {},
     "output_type": "execute_result"
    }
   ],
   "source": [
    "import numpy as np\n",
    "\n",
    "np.allclose(feature_1,feature_2)\n",
    "\n"
   ]
  },
  {
   "cell_type": "code",
   "execution_count": null,
   "metadata": {},
   "outputs": [],
   "source": []
  }
 ],
 "metadata": {
  "kernelspec": {
   "display_name": "Python 3.5",
   "language": "python",
   "name": "python3"
  },
  "language_info": {
   "codemirror_mode": {
    "name": "ipython",
    "version": 3
   },
   "file_extension": ".py",
   "mimetype": "text/x-python",
   "name": "python",
   "nbconvert_exporter": "python",
   "pygments_lexer": "ipython3",
   "version": "3.5.0"
  }
 },
 "nbformat": 4,
 "nbformat_minor": 2
}
