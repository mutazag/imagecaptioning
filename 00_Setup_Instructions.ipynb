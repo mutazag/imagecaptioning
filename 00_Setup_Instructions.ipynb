{
 "cells": [
  {
   "cell_type": "markdown",
   "metadata": {},
   "source": [
    "# Data Folder"
   ]
  },
  {
   "cell_type": "markdown",
   "metadata": {},
   "source": [
    "The following data folder structure will be required before running the scripts:\n",
    "    \n",
    "```\n",
    "data \\ \n",
    "    Extracted_Features\n",
    "    Flickr8k_Dataset\\Flicker8k_Dataset\n",
    "    Flickr8k_text\n",
    "```\n",
    "\n"
   ]
  },
  {
   "cell_type": "markdown",
   "metadata": {},
   "source": [
    "## Extracted_Features \n",
    "\n",
    "* download the extracted features file from: https://raw.githubusercontent.com/mutazag/mdsi/master/download/extracted_features.zip \n",
    "* unzip the file content into folder `Extracted_Features`\n",
    "\n",
    "the following two script files can be used to download and extract the compressed file: \n",
    "* download script: `util_download_extracted_features.sh`\n",
    "* unzip script: `util_unzip_extracted_features.sh`\n",
    "\n",
    "the scripts are located in the `data` folder"
   ]
  },
  {
   "cell_type": "markdown",
   "metadata": {},
   "source": [
    "## Flickr8k_Dataset data sets \n",
    "\n",
    "images need to be extracted into the folder: Flickr8k_Dataset\n",
    "text datasets need to be extracted into folder: Flickr8k_text\n",
    "\n",
    "the following two script files can be used to download and extract the compressed file: \n",
    "* download sciprt: `util_download_files.sh`\n",
    "* unzip scropt: `util_unzip_files.sh`\n",
    "\n",
    "the scripts are located in the `data` folder"
   ]
  },
  {
   "cell_type": "markdown",
   "metadata": {},
   "source": [
    "## Best Models \n",
    "\n",
    "Best trained models are saved to `.h5`. the files must be placed in the root folder for the project to be used in the `04_eval_*` notebooks\n",
    "\n",
    "Models can be downloaded from this link: https://1drv.ms/u/s!Auov72Lm6ncAmIc6ooPk--nKzjOF3A?e=92b4e8 "
   ]
  },
  {
   "cell_type": "code",
   "execution_count": null,
   "metadata": {},
   "outputs": [],
   "source": []
  }
 ],
 "metadata": {
  "kernelspec": {
   "display_name": "Python 3",
   "language": "python",
   "name": "python3"
  },
  "language_info": {
   "codemirror_mode": {
    "name": "ipython",
    "version": 3
   },
   "file_extension": ".py",
   "mimetype": "text/x-python",
   "name": "python",
   "nbconvert_exporter": "python",
   "pygments_lexer": "ipython3",
   "version": "3.6.8"
  }
 },
 "nbformat": 4,
 "nbformat_minor": 2
}
