{
 "cells": [
  {
   "cell_type": "markdown",
   "metadata": {},
   "source": [
    "# Import Libraries\n",
    "\n"
   ]
  },
  {
   "cell_type": "code",
   "execution_count": null,
   "metadata": {},
   "outputs": [],
   "source": [
    "import os \n",
    "import datetime\n",
    "from pickle import dump"
   ]
  },
  {
   "cell_type": "markdown",
   "metadata": {},
   "source": [
    "# Import keras libraries for different pretrained cnn models"
   ]
  },
  {
   "cell_type": "code",
   "execution_count": null,
   "metadata": {},
   "outputs": [],
   "source": [
    "import keras.applications.vgg16 as vgg16\n",
    "import keras.applications.inception_v3 as inceptionv3\n",
    "import keras.applications.resnet50 as resnet50\n",
    "import keras.applications.densenet as densenet121"
   ]
  },
  {
   "cell_type": "code",
   "execution_count": null,
   "metadata": {},
   "outputs": [],
   "source": [
    "from keras.preprocessing.image import load_img\n",
    "from keras.preprocessing.image import img_to_array\n",
    "\n",
    "from keras.models import Model\n",
    "\n",
    "import numpy as np\n",
    "\n",
    "from utils.helpers import Config\n",
    "\n",
    "# also setting seed\n",
    "np.random.seed(42) "
   ]
  },
  {
   "cell_type": "markdown",
   "metadata": {},
   "source": [
    "# extract features from each photo in the directory\n",
    "applies the chosen pretrained model to a set of image files, resulting in a feature set for each image which can be saved to file for use "
   ]
  },
  {
   "cell_type": "code",
   "execution_count": 2,
   "metadata": {},
   "outputs": [],
   "source": [
    "def extract_features(directory, model, processor, size = (224,224)):\n",
    "\t# re-structure the model\n",
    "\tmodel.layers.pop()\n",
    "\tmodel = Model(inputs=model.inputs, outputs=model.layers[-1].output)\n",
    "\t# summarize\n",
    "\tmodel.summary()\n",
    "\t# extract features from each photo\n",
    "\tfeatures = dict()\n",
    "\ti = 0\n",
    "\tfor name in os.listdir(directory):\n",
    "\t\ti += 1\n",
    "\t\t# load an image from file\n",
    "\t\tfilename = os.path.join(directory, name)\n",
    "\t\timage = load_img(filename, target_size=size)\n",
    "\t\t# convert the image pixels to a numpy array\n",
    "\t\timage = img_to_array(image)\n",
    "\t\t# reshape data for the model\n",
    "\t\timage = image.reshape((1, image.shape[0], image.shape[1], image.shape[2]))\n",
    "\t\t# prepare the image for the selected model, processor is the pre_process image for the selected model\n",
    "\t\t#preprocess_input\n",
    "\t\timage = processor(image)\n",
    "\t\t# get features\n",
    "\t\tfeature = model.predict(image, verbose=0)\n",
    "\t\t# get image id\n",
    "\t\timage_id = name.split('.')[0]\n",
    "\t\t# store feature\n",
    "\t\tfeatures[image_id] = feature\n",
    "\t\tif i % 500 == 0: \n",
    "\t\t\tprint(\"%s %i >> %s\" % (datetime.datetime.now(), i, image_id))\n",
    "\treturn features"
   ]
  },
  {
   "cell_type": "markdown",
   "metadata": {},
   "source": [
    "# Photo Feature Exraction Process"
   ]
  },
  {
   "cell_type": "markdown",
   "metadata": {},
   "source": [
    "## Config\n",
    "\n",
    "the following code will setup a config object that contains references and helper functions for handling file paths"
   ]
  },
  {
   "cell_type": "code",
   "execution_count": null,
   "metadata": {},
   "outputs": [],
   "source": [
    "\n",
    "c = Config()\n",
    "directory = c.flickr_images_directory \n"
   ]
  },
  {
   "cell_type": "markdown",
   "metadata": {},
   "source": [
    "## Extract features using VGG16 model\n"
   ]
  },
  {
   "cell_type": "code",
   "execution_count": null,
   "metadata": {},
   "outputs": [],
   "source": [
    "print(\"%s VGG feature extraction - start\" % (datetime.datetime.now()))\n",
    "model = vgg16.VGG16()\n",
    "features = extract_features(directory, model, vgg16.preprocess_input)\n",
    "c.SaveFeatures(features, 'vgg_features.pkl') \n",
    "\n",
    "print('Extracted Features: %d' % len(features))\n",
    "print(\"%s Feature extraction - end\" % (datetime.datetime.now()))"
   ]
  },
  {
   "cell_type": "markdown",
   "metadata": {},
   "source": [
    "## Extract features using Inception model"
   ]
  },
  {
   "cell_type": "code",
   "execution_count": null,
   "metadata": {},
   "outputs": [],
   "source": [
    "print(\"%s InceptionV3 feature extraction - start\" % (datetime.datetime.now()))\n",
    "\n",
    "model = inceptionv3.InceptionV3() \n",
    "features = extract_features(\n",
    "\tdirectory, \n",
    "\tmodel, \n",
    "\tprocessor = inceptionv3.preprocess_input, \n",
    "\tsize = (299,299)) # Note Inception takes an input of 299 x 299\n",
    "c.SaveFeatures(features, 'inception_features.pkl')\n",
    "\n",
    "print('Extracted Features: %d' % len(features))\n",
    "print(\"%s Feature extraction - end\" % (datetime.datetime.now()))"
   ]
  },
  {
   "cell_type": "markdown",
   "metadata": {},
   "source": [
    "## Extract features using ResNet50 model"
   ]
  },
  {
   "cell_type": "code",
   "execution_count": null,
   "metadata": {},
   "outputs": [],
   "source": [
    "print(\"%s ResNet50 feature extraction - start\" % (datetime.datetime.now()))\n",
    "model = resnet50.ResNet50() \n",
    "features = extract_features(\n",
    "\tdirectory, \n",
    "\tmodel, \n",
    "\tprocessor = resnet50.preprocess_input)\n",
    "\n",
    "c.SaveFeatures(features, \"resnet_features.pkl\")\n",
    "\n",
    "print('Extracted Features: %d' % len(features))\n",
    "print(\"%s Feature extraction - end\" % (datetime.datetime.now()))"
   ]
  },
  {
   "cell_type": "markdown",
   "metadata": {},
   "source": [
    "## Extract features using DenseNet121 model"
   ]
  },
  {
   "cell_type": "code",
   "execution_count": null,
   "metadata": {},
   "outputs": [],
   "source": [
    "print(\"%s DenseNet121 feature extraction - start\" % (datetime.datetime.now())) \n",
    "\n",
    "model = densenet121.DenseNet121()\n",
    "features = extract_features(\n",
    "\tdirectory, \n",
    "\tmodel, \n",
    "\tprocessor = densenet121.preprocess_input)\n",
    "\n",
    "c.SaveFeatures(features, \"densenet_features.pkl\")\n",
    "\n",
    "\n",
    "print('Extracted Features: %d' % len(features))\n",
    "print(\"%s Feature extraction - end\" % (datetime.datetime.now()))"
   ]
  }
 ],
 "metadata": {
  "kernelspec": {
   "display_name": "Python 3",
   "language": "python",
   "name": "python3"
  },
  "language_info": {
   "codemirror_mode": {
    "name": "ipython",
    "version": 3
   },
   "file_extension": ".py",
   "mimetype": "text/x-python",
   "name": "python",
   "nbconvert_exporter": "python",
   "pygments_lexer": "ipython3",
   "version": "3.6.8"
  }
 },
 "nbformat": 4,
 "nbformat_minor": 2
}
